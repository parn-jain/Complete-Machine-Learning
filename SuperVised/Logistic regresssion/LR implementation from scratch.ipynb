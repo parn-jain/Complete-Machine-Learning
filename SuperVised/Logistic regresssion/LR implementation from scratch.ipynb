{
 "cells": [
  {
   "cell_type": "code",
   "execution_count": 75,
   "id": "98447578",
   "metadata": {},
   "outputs": [],
   "source": [
    "class LRScratch:\n",
    "    def __init__(self):\n",
    "        self.m = None\n",
    "        self.b = None\n",
    "    \n",
    "    def fit(self,X_train,Y_train):\n",
    "        num = 0\n",
    "        den = 0\n",
    "        for i in range(len(X_train)):\n",
    "            num = num + ((X_train[i]-X_train.mean())*(Y_train[i]-Y_train.mean()))\n",
    "            den = den + (X_train[i]-X_train.mean())**2\n",
    "        self.m = num/den\n",
    "        self.b = Y_train.mean() - (self.m*X_train.mean())\n",
    "        print(self.m)\n",
    "        print(self.b)\n",
    "    def predict(self,X_test):\n",
    "        Y_test = self.m*X_test +self.b\n",
    "        return Y_test\n",
    "        \n",
    "        "
   ]
  },
  {
   "cell_type": "code",
   "execution_count": 76,
   "id": "32e70b89",
   "metadata": {},
   "outputs": [],
   "source": [
    "import pandas as pd\n",
    "import numpy as np\n",
    "from sklearn.model_selection import train_test_split\n",
    "data = pd.read_csv('placement.csv')\n",
    "X = data.iloc[:,0].values\n",
    "Y = data.iloc[:,1].values\n",
    "X_train ,X_test, Y_train, Y_test = train_test_split(X,Y,test_size = 0.2, random_state = 2)"
   ]
  },
  {
   "cell_type": "code",
   "execution_count": 77,
   "id": "add0505a",
   "metadata": {},
   "outputs": [],
   "source": [
    "lr = LRScratch()"
   ]
  },
  {
   "cell_type": "code",
   "execution_count": 78,
   "id": "5dd233cb",
   "metadata": {},
   "outputs": [
    {
     "name": "stdout",
     "output_type": "stream",
     "text": [
      "0.5579519734250721\n",
      "-0.8961119222429152\n"
     ]
    }
   ],
   "source": [
    "lr.fit(X_train,Y_train)"
   ]
  },
  {
   "cell_type": "code",
   "execution_count": 80,
   "id": "a09752f1",
   "metadata": {},
   "outputs": [
    {
     "data": {
      "text/plain": [
       "2.9481771746558314"
      ]
     },
     "execution_count": 80,
     "metadata": {},
     "output_type": "execute_result"
    }
   ],
   "source": [
    "lr.predict(6.89)"
   ]
  }
 ],
 "metadata": {
  "kernelspec": {
   "display_name": "Python 3 (ipykernel)",
   "language": "python",
   "name": "python3"
  },
  "language_info": {
   "codemirror_mode": {
    "name": "ipython",
    "version": 3
   },
   "file_extension": ".py",
   "mimetype": "text/x-python",
   "name": "python",
   "nbconvert_exporter": "python",
   "pygments_lexer": "ipython3",
   "version": "3.10.5"
  }
 },
 "nbformat": 4,
 "nbformat_minor": 5
}
